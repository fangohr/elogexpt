{
 "cells": [
  {
   "cell_type": "markdown",
   "metadata": {},
   "source": [
    "* Double roundtrip to only call the function once\n",
    "* Configurable functions to call\n",
    "* One button for multiple functions?\n",
    "* Live updating plot/summary at top of notebook, click button to freeze"
   ]
  },
  {
   "cell_type": "code",
   "execution_count": 1,
   "metadata": {
    "collapsed": true
   },
   "outputs": [],
   "source": [
    "%matplotlib inline\n",
    "import client\n",
    "#client.add_button('ipy_summary', 'fa-umbrella')"
   ]
  },
  {
   "cell_type": "code",
   "execution_count": 2,
   "metadata": {},
   "outputs": [
    {
     "data": {
      "application/javascript": [
       "var last_execed_cell = null;\n",
       "\n",
       "function add_summary_now(){\n",
       "    var new_cell = Jupyter.notebook.insert_cell_below();\n",
       "    new_cell.code_mirror.setValue(\"data = client.ipy_summary()\");\n",
       "    last_execed_cell = new_cell;\n",
       "    new_cell.execute();\n",
       "}\n",
       "\n",
       "$(Jupyter.events).on('output_appended.OutputArea', function (ev, type, value, md, toinsert) {\n",
       "    if ((md['text/plain'] || {}).data_range) {\n",
       "        var range = md['text/plain'].data_range;\n",
       "        if (last_execed_cell) {\n",
       "            var code = \"data = client.ipy_summary((\" + range[0] + \", \" + range[1] + \"))\";\n",
       "            last_execed_cell.code_mirror.setValue(code);\n",
       "        }\n",
       "    }\n",
       "});\n",
       "\n",
       "Jupyter.toolbar.add_buttons_group([{\n",
       "    label: 'Experiment state summary now',\n",
       "    icon: 'fa-umbrella',\n",
       "    callback: add_summary_now,\n",
       "    id: 'add_summary_button'\n",
       "}]);"
      ],
      "text/plain": [
       "<IPython.core.display.Javascript object>"
      ]
     },
     "metadata": {},
     "output_type": "display_data"
    }
   ],
   "source": [
    "%%javascript\n",
    "var last_execed_cell = null;\n",
    "\n",
    "on_latest_id_reply(number) {\n",
    "    var new_cell = Jupyter.notebook.insert_cell_below();\n",
    "    new_cell.code_mirror.setValue(\"data = client.ipy_summary(\"+number-20 + \", \" + number +\")\");\n",
    "    new_cell.execute();\n",
    "}\n",
    "\n",
    "request_latest_id()\n",
    "\n",
    "function add_summary_now(){\n",
    "    var new_cell = Jupyter.notebook.insert_cell_below();\n",
    "    new_cell.code_mirror.setValue(\"data = client.ipy_summary()\");\n",
    "    last_execed_cell = new_cell;\n",
    "    new_cell.execute();\n",
    "}\n",
    "\n",
    "// $(Jupyter.events).on('output_appended.OutputArea', function (ev, type, value, md, toinsert) {\n",
    "//     if ((md['text/plain'] || {}).data_range) {\n",
    "//         var range = md['text/plain'].data_range;\n",
    "//         if (last_execed_cell) {\n",
    "//             var code = \"data = client.ipy_summary((\" + range[0] + \", \" + range[1] + \"))\";\n",
    "//             last_execed_cell.code_mirror.setValue(code);\n",
    "//         }\n",
    "//     }\n",
    "// });\n",
    "\n",
    "Jupyter.toolbar.add_buttons_group([{\n",
    "    label: 'Experiment state summary now',\n",
    "    icon: 'fa-umbrella',\n",
    "    callback: add_summary_now,\n",
    "    id: 'add_summary_button'\n",
    "}]);"
   ]
  },
  {
   "cell_type": "code",
   "execution_count": 10,
   "metadata": {},
   "outputs": [
    {
     "name": "stdout",
     "output_type": "stream",
     "text": [
      "123\n"
     ]
    }
   ],
   "source": [
    "print(123)"
   ]
  },
  {
   "cell_type": "code",
   "execution_count": null,
   "metadata": {
    "collapsed": true
   },
   "outputs": [],
   "source": []
  },
  {
   "cell_type": "code",
   "execution_count": null,
   "metadata": {
    "collapsed": true
   },
   "outputs": [],
   "source": []
  },
  {
   "cell_type": "code",
   "execution_count": 5,
   "metadata": {},
   "outputs": [
    {
     "data": {
      "text/plain": [
       "Data for range 2660-2679"
      ]
     },
     "metadata": {
      "text/plain": {
       "data_range": [
        2660,
        2679
       ]
      }
     },
     "output_type": "display_data"
    },
    {
     "data": {
      "image/png": "[encoded data removed]",
      "text/plain": [
       "<matplotlib.figure.Figure at 0x7f8afe3b4c18>"
      ]
     },
     "metadata": {},
     "output_type": "display_data"
    }
   ],
   "source": [
    "data = client.ipy_summary((2660, 2679))"
   ]
  },
  {
   "cell_type": "code",
   "execution_count": 8,
   "metadata": {
    "collapsed": true
   },
   "outputs": [],
   "source": [
    "ip = get_ipython()"
   ]
  },
  {
   "cell_type": "code",
   "execution_count": null,
   "metadata": {
    "collapsed": true
   },
   "outputs": [],
   "source": [
    "foobar"
   ]
  },
  {
   "cell_type": "code",
   "execution_count": 7,
   "metadata": {},
   "outputs": [
    {
     "data": {
      "text/plain": [
       "Data for range 2721-2740"
      ]
     },
     "metadata": {
      "text/plain": {
       "data_range": [
        2721,
        2740
       ]
      }
     },
     "output_type": "display_data"
    },
    {
     "data": {
      "image/png": "[encoded data removed]",
      "text/plain": [
       "<matplotlib.figure.Figure at 0x7f8aea7bda90>"
      ]
     },
     "metadata": {},
     "output_type": "display_data"
    },
    {
     "name": "stdout",
     "output_type": "stream",
     "text": [
      "To get this data again later, run:\n",
      "    data = ipy_summary((2721, 2740))\n"
     ]
    }
   ],
   "source": [
    "data = client.ipy_summary((2721, 2740))"
   ]
  },
  {
   "cell_type": "code",
   "execution_count": 6,
   "metadata": {},
   "outputs": [
    {
     "data": {
      "text/plain": [
       "Data for range 2720-2739"
      ]
     },
     "metadata": {
      "text/plain": {
       "data_range": [
        2720,
        2739
       ]
      }
     },
     "output_type": "display_data"
    },
    {
     "data": {
      "image/png": "[encoded data removed]",
      "text/plain": [
       "<matplotlib.figure.Figure at 0x7f8ad8b724a8>"
      ]
     },
     "metadata": {},
     "output_type": "display_data"
    },
    {
     "name": "stdout",
     "output_type": "stream",
     "text": [
      "To get this data again later, run:\n",
      "    data = ipy_summary((2720, 2739))\n"
     ]
    }
   ],
   "source": [
    "data = client.ipy_summary((2720, 2739))"
   ]
  }
 ],
 "metadata": {
  "kernelspec": {
   "display_name": "Python 3",
   "language": "python",
   "name": "python3"
  },
  "language_info": {
   "codemirror_mode": {
    "name": "ipython",
    "version": 3
   },
   "file_extension": ".py",
   "mimetype": "text/x-python",
   "name": "python",
   "nbconvert_exporter": "python",
   "pygments_lexer": "ipython3",
   "version": "3.5.2"
  }
 },
 "nbformat": 4,
 "nbformat_minor": 2
}
